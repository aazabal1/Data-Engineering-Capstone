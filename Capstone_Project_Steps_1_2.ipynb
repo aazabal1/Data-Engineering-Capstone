{
 "cells": [
  {
   "cell_type": "markdown",
   "metadata": {
    "editable": true
   },
   "source": [
    "# Analysis of Inmigration Demographics in the USA \n",
    "### Data Engineering Capstone Project\n",
    "\n",
    "#### Project Summary\n",
    "Preparation of database to analyse of USA border inmigration data, USA city demographics, USA airports and USA city temperatures\n",
    "\n",
    "The project follows the follow steps:\n",
    "* Step 1: Scope the Project and Gather Data\n",
    "* Step 2: Explore and Assess the Data\n",
    "* Step 3: Define the Data Model\n",
    "* Step 4: Run ETL to Model the Data\n",
    "* Step 5: Complete Project Write Up"
   ]
  },
  {
   "cell_type": "code",
   "execution_count": 1,
   "metadata": {
    "editable": true
   },
   "outputs": [
    {
     "name": "stdout",
     "output_type": "stream",
     "text": [
      "Collecting missingno\n",
      "  Downloading https://files.pythonhosted.org/packages/2b/de/6e4dd6d720c49939544352155dc06a08c9f7e4271aa631a559dfbeaaf9d4/missingno-0.4.2-py3-none-any.whl\n",
      "Requirement already satisfied: scipy in /opt/conda/lib/python3.6/site-packages (from missingno) (1.2.1)\n",
      "Requirement already satisfied: numpy in /opt/conda/lib/python3.6/site-packages (from missingno) (1.12.1)\n",
      "Requirement already satisfied: seaborn in /opt/conda/lib/python3.6/site-packages (from missingno) (0.8.1)\n",
      "Requirement already satisfied: matplotlib in /opt/conda/lib/python3.6/site-packages (from missingno) (2.1.0)\n",
      "Requirement already satisfied: pandas in /opt/conda/lib/python3.6/site-packages (from seaborn->missingno) (0.23.3)\n",
      "Requirement already satisfied: six>=1.10 in /opt/conda/lib/python3.6/site-packages (from matplotlib->missingno) (1.11.0)\n",
      "Requirement already satisfied: python-dateutil>=2.0 in /opt/conda/lib/python3.6/site-packages (from matplotlib->missingno) (2.6.1)\n",
      "Requirement already satisfied: pytz in /opt/conda/lib/python3.6/site-packages (from matplotlib->missingno) (2017.3)\n",
      "Requirement already satisfied: cycler>=0.10 in /opt/conda/lib/python3.6/site-packages/cycler-0.10.0-py3.6.egg (from matplotlib->missingno) (0.10.0)\n",
      "Requirement already satisfied: pyparsing!=2.0.4,!=2.1.2,!=2.1.6,>=2.0.1 in /opt/conda/lib/python3.6/site-packages (from matplotlib->missingno) (2.2.0)\n",
      "Installing collected packages: missingno\n",
      "Successfully installed missingno-0.4.2\n"
     ]
    }
   ],
   "source": [
    "# Do all imports and installs here\n",
    "import pandas as pd\n",
    "!pip install missingno\n",
    "import missingno as msno\n",
    "from pyspark.sql.functions import length\n",
    "from datetime import datetime, timedelta"
   ]
  },
  {
   "cell_type": "markdown",
   "metadata": {
    "editable": true
   },
   "source": [
    "### Step 1: Scope the Project and Gather Data\n",
    "\n",
    "#### Scope \n",
    "Explain what you plan to do in the project in more detail. What data do you use? What is your end solution look like? What tools did you use? \n",
    "\n",
    "This project will combine four datasets (explained in detail in the section below) to help analyse the inflow of inmigration coming through the USA airports. This information will be combined with details about the USA cities demographics, temperature and airport details in order to allow for a more in-depth analysis of the inmigration in the USA. \n",
    "\n",
    "As a data engineer, the end goal of this project is simply to extract, transform and load (create an ETL pipeline) of the data, by cleaning it and preparing it in the correct format. There are many possible uses for this dataset, so the aim of this project will be to provide as much data as possible, to increase the scope of future analyses done with this data. Future users of this data could be , for example, the Department of State to study the effect of inmigration in the different cities in the USA and how it affects the demographics, travel agencies/airlines using this data to write machine learning algorithms to understand why and when different passengers travel to the USA, etc.\n",
    "\n",
    "This project will be developed locally, thus simply Python and Spark will be used, in order to write spark and SQL queries. \n",
    "\n",
    "#### Describe and Gather Data \n",
    "Describe the data sets you're using. Where did it come from? What type of information is included? \n",
    "\n",
    "The main dataset will include data on immigration to the United States, and supplementary datasets will include data on airport codes, U.S. city demographics, and temperature data.\n",
    "\n",
    "##### I94 Immigration Data: \n",
    "This data comes from the US National Tourism and Trade Office. A data dictionary is included in the workspace. The data comes from https://travel.trade.gov/research/reports/i94/historical/2016.html. There's a sample file so you can take a look at the data in csv format before reading it all in. You do not have to use the entire dataset, just use what you need to accomplish the goal you set at the beginning of the project.\n",
    "##### World Temperature Data: \n",
    "This dataset came from Kaggle. You can read more about it in https://www.kaggle.com/berkeleyearth/climate-change-earth-surface-temperature-data.\n",
    "##### U.S. City Demographic Data: \n",
    "This data comes from OpenSoft. You can read more about it in https://public.opendatasoft.com/explore/dataset/us-cities-demographics/export/.\n",
    "##### Airport Code Table: \n",
    "This is a simple table of airport codes and corresponding cities. It comes from https://datahub.io/core/airport-codes#data."
   ]
  },
  {
   "cell_type": "markdown",
   "metadata": {
    "editable": true
   },
   "source": [
    "### Step 2: Explore and Assess the Data\n",
    "#### Explore the Data \n",
    "Identify data quality issues, like missing values, duplicate data, etc.\n",
    "\n",
    "#### Cleaning Steps\n",
    "Document steps necessary to clean the data"
   ]
  },
  {
   "cell_type": "markdown",
   "metadata": {
    "editable": true
   },
   "source": [
    "### Inmigration Data\n",
    "First, explore the inmigration data. Below one can see the details of what all columns mean"
   ]
  },
  {
   "cell_type": "markdown",
   "metadata": {
    "editable": true
   },
   "source": [
    "| Column Name | Description                                                                           |\n",
    "|-------------|---------------------------------------------------------------------------------------|\n",
    "| CICID*      | ID that uniquely identify one record in the dataset                                   |\n",
    "| I94YR       | 4 digit year                                                                          |\n",
    "| I94MON      | Numeric month                                                                         |\n",
    "| I94CIT      | 3 digit code of source city for immigration (Born country)                            |\n",
    "| I94RES      | 3 digit code of source country for immigration (Residence country)                    |\n",
    "| I94PORT     | Port addmitted through                                                                |\n",
    "| ARRDATE     | Arrival date in the USA                                                               |\n",
    "| I94MODE     | Mode of transportation (1 = Air; 2 = Sea; 3 = Land; 9 = Not reported)                 |\n",
    "| I94ADDR     | State of arrival                                                                      |\n",
    "| DEPDATE     | Departure date                                                                        |\n",
    "| I94BIR      | Age of Respondent in Years                                                            |\n",
    "| I94VISA     | Visa codes collapsed into three categories: (1 = Business; 2 = Pleasure; 3 = Student) |\n",
    "| COUNT       | Used for summary statistics                                                           |\n",
    "| DTADFILE    | Character Date Field                                                                  |\n",
    "| VISAPOST    | Department of State where where Visa was issued                                       |\n",
    "| OCCUP       | Occupation that will be performed in U.S.                                             |\n",
    "| ENTDEPA     | Arrival Flag. Whether admitted or paroled into the US                                 |\n",
    "| ENTDEPD     | Departure Flag. Whether departed, lost visa, or deceased                              |\n",
    "| ENTDEPU     | Update Flag. Update of visa, either apprehended, overstayed, or updated to PR         |\n",
    "| MATFLAG     | Match flag                                                                            |\n",
    "| BIRYEAR     | 4 digit year of birth                                                                 |\n",
    "| DTADDTO     | Character date field to when admitted in the US                                       |\n",
    "| GENDER      | Gender                                                                                |\n",
    "| INSNUM      | INS number                                                                            |\n",
    "| AIRLINE     | Airline used to arrive in U.S.                                                        |\n",
    "| ADMNUM      | Admission number, should be unique and not nullable                                   |\n",
    "| FLTNO       | Flight number of Airline used to arrive in U.S.                                       |\n",
    "| VISATYPE    | Class of admission legally admitting the non-immigrant to temporarily stay in U.S.    |"
   ]
  },
  {
   "cell_type": "code",
   "execution_count": 2,
   "metadata": {
    "editable": true
   },
   "outputs": [],
   "source": [
    "# Read in the inmigration data here\n",
    "fname = '../../data/18-83510-I94-Data-2016/i94_apr16_sub.sas7bdat'\n",
    "inmigration_df = pd.read_sas(fname, 'sas7bdat', encoding=\"ISO-8859-1\")"
   ]
  },
  {
   "cell_type": "code",
   "execution_count": 3,
   "metadata": {
    "editable": true
   },
   "outputs": [
    {
     "data": {
      "text/html": [
       "<div>\n",
       "<style scoped>\n",
       "    .dataframe tbody tr th:only-of-type {\n",
       "        vertical-align: middle;\n",
       "    }\n",
       "\n",
       "    .dataframe tbody tr th {\n",
       "        vertical-align: top;\n",
       "    }\n",
       "\n",
       "    .dataframe thead th {\n",
       "        text-align: right;\n",
       "    }\n",
       "</style>\n",
       "<table border=\"1\" class=\"dataframe\">\n",
       "  <thead>\n",
       "    <tr style=\"text-align: right;\">\n",
       "      <th></th>\n",
       "      <th>cicid</th>\n",
       "      <th>i94yr</th>\n",
       "      <th>i94mon</th>\n",
       "      <th>i94cit</th>\n",
       "      <th>i94res</th>\n",
       "      <th>i94port</th>\n",
       "      <th>arrdate</th>\n",
       "      <th>i94mode</th>\n",
       "      <th>i94addr</th>\n",
       "      <th>depdate</th>\n",
       "      <th>...</th>\n",
       "      <th>entdepu</th>\n",
       "      <th>matflag</th>\n",
       "      <th>biryear</th>\n",
       "      <th>dtaddto</th>\n",
       "      <th>gender</th>\n",
       "      <th>insnum</th>\n",
       "      <th>airline</th>\n",
       "      <th>admnum</th>\n",
       "      <th>fltno</th>\n",
       "      <th>visatype</th>\n",
       "    </tr>\n",
       "  </thead>\n",
       "  <tbody>\n",
       "    <tr>\n",
       "      <th>0</th>\n",
       "      <td>6.0</td>\n",
       "      <td>2016.0</td>\n",
       "      <td>4.0</td>\n",
       "      <td>692.0</td>\n",
       "      <td>692.0</td>\n",
       "      <td>XXX</td>\n",
       "      <td>20573.0</td>\n",
       "      <td>NaN</td>\n",
       "      <td>NaN</td>\n",
       "      <td>NaN</td>\n",
       "      <td>...</td>\n",
       "      <td>U</td>\n",
       "      <td>NaN</td>\n",
       "      <td>1979.0</td>\n",
       "      <td>10282016</td>\n",
       "      <td>NaN</td>\n",
       "      <td>NaN</td>\n",
       "      <td>NaN</td>\n",
       "      <td>1.897628e+09</td>\n",
       "      <td>NaN</td>\n",
       "      <td>B2</td>\n",
       "    </tr>\n",
       "    <tr>\n",
       "      <th>1</th>\n",
       "      <td>7.0</td>\n",
       "      <td>2016.0</td>\n",
       "      <td>4.0</td>\n",
       "      <td>254.0</td>\n",
       "      <td>276.0</td>\n",
       "      <td>ATL</td>\n",
       "      <td>20551.0</td>\n",
       "      <td>1.0</td>\n",
       "      <td>AL</td>\n",
       "      <td>NaN</td>\n",
       "      <td>...</td>\n",
       "      <td>Y</td>\n",
       "      <td>NaN</td>\n",
       "      <td>1991.0</td>\n",
       "      <td>D/S</td>\n",
       "      <td>M</td>\n",
       "      <td>NaN</td>\n",
       "      <td>NaN</td>\n",
       "      <td>3.736796e+09</td>\n",
       "      <td>00296</td>\n",
       "      <td>F1</td>\n",
       "    </tr>\n",
       "    <tr>\n",
       "      <th>2</th>\n",
       "      <td>15.0</td>\n",
       "      <td>2016.0</td>\n",
       "      <td>4.0</td>\n",
       "      <td>101.0</td>\n",
       "      <td>101.0</td>\n",
       "      <td>WAS</td>\n",
       "      <td>20545.0</td>\n",
       "      <td>1.0</td>\n",
       "      <td>MI</td>\n",
       "      <td>20691.0</td>\n",
       "      <td>...</td>\n",
       "      <td>NaN</td>\n",
       "      <td>M</td>\n",
       "      <td>1961.0</td>\n",
       "      <td>09302016</td>\n",
       "      <td>M</td>\n",
       "      <td>NaN</td>\n",
       "      <td>OS</td>\n",
       "      <td>6.666432e+08</td>\n",
       "      <td>93</td>\n",
       "      <td>B2</td>\n",
       "    </tr>\n",
       "    <tr>\n",
       "      <th>3</th>\n",
       "      <td>16.0</td>\n",
       "      <td>2016.0</td>\n",
       "      <td>4.0</td>\n",
       "      <td>101.0</td>\n",
       "      <td>101.0</td>\n",
       "      <td>NYC</td>\n",
       "      <td>20545.0</td>\n",
       "      <td>1.0</td>\n",
       "      <td>MA</td>\n",
       "      <td>20567.0</td>\n",
       "      <td>...</td>\n",
       "      <td>NaN</td>\n",
       "      <td>M</td>\n",
       "      <td>1988.0</td>\n",
       "      <td>09302016</td>\n",
       "      <td>NaN</td>\n",
       "      <td>NaN</td>\n",
       "      <td>AA</td>\n",
       "      <td>9.246846e+10</td>\n",
       "      <td>00199</td>\n",
       "      <td>B2</td>\n",
       "    </tr>\n",
       "    <tr>\n",
       "      <th>4</th>\n",
       "      <td>17.0</td>\n",
       "      <td>2016.0</td>\n",
       "      <td>4.0</td>\n",
       "      <td>101.0</td>\n",
       "      <td>101.0</td>\n",
       "      <td>NYC</td>\n",
       "      <td>20545.0</td>\n",
       "      <td>1.0</td>\n",
       "      <td>MA</td>\n",
       "      <td>20567.0</td>\n",
       "      <td>...</td>\n",
       "      <td>NaN</td>\n",
       "      <td>M</td>\n",
       "      <td>2012.0</td>\n",
       "      <td>09302016</td>\n",
       "      <td>NaN</td>\n",
       "      <td>NaN</td>\n",
       "      <td>AA</td>\n",
       "      <td>9.246846e+10</td>\n",
       "      <td>00199</td>\n",
       "      <td>B2</td>\n",
       "    </tr>\n",
       "  </tbody>\n",
       "</table>\n",
       "<p>5 rows × 28 columns</p>\n",
       "</div>"
      ],
      "text/plain": [
       "   cicid   i94yr  i94mon  i94cit  i94res i94port  arrdate  i94mode i94addr  \\\n",
       "0    6.0  2016.0     4.0   692.0   692.0     XXX  20573.0      NaN     NaN   \n",
       "1    7.0  2016.0     4.0   254.0   276.0     ATL  20551.0      1.0      AL   \n",
       "2   15.0  2016.0     4.0   101.0   101.0     WAS  20545.0      1.0      MI   \n",
       "3   16.0  2016.0     4.0   101.0   101.0     NYC  20545.0      1.0      MA   \n",
       "4   17.0  2016.0     4.0   101.0   101.0     NYC  20545.0      1.0      MA   \n",
       "\n",
       "   depdate   ...     entdepu  matflag  biryear   dtaddto gender insnum  \\\n",
       "0      NaN   ...           U      NaN   1979.0  10282016    NaN    NaN   \n",
       "1      NaN   ...           Y      NaN   1991.0       D/S      M    NaN   \n",
       "2  20691.0   ...         NaN        M   1961.0  09302016      M    NaN   \n",
       "3  20567.0   ...         NaN        M   1988.0  09302016    NaN    NaN   \n",
       "4  20567.0   ...         NaN        M   2012.0  09302016    NaN    NaN   \n",
       "\n",
       "  airline        admnum  fltno visatype  \n",
       "0     NaN  1.897628e+09    NaN       B2  \n",
       "1     NaN  3.736796e+09  00296       F1  \n",
       "2      OS  6.666432e+08     93       B2  \n",
       "3      AA  9.246846e+10  00199       B2  \n",
       "4      AA  9.246846e+10  00199       B2  \n",
       "\n",
       "[5 rows x 28 columns]"
      ]
     },
     "execution_count": 3,
     "metadata": {},
     "output_type": "execute_result"
    }
   ],
   "source": [
    "inmigration_df.head()"
   ]
  },
  {
   "cell_type": "code",
   "execution_count": 4,
   "metadata": {
    "editable": true
   },
   "outputs": [
    {
     "name": "stdout",
     "output_type": "stream",
     "text": [
      "(3096313, 28)\n"
     ]
    }
   ],
   "source": [
    "# Find the number of rows and columns\n",
    "print(inmigration_df.shape)"
   ]
  },
  {
   "cell_type": "code",
   "execution_count": 5,
   "metadata": {
    "editable": true
   },
   "outputs": [
    {
     "data": {
      "text/plain": [
       "3096313"
      ]
     },
     "execution_count": 5,
     "metadata": {},
     "output_type": "execute_result"
    }
   ],
   "source": [
    "# Check that the cicid column can be used as a unique ID classifier\n",
    "len(inmigration_df.cicid.unique())"
   ]
  },
  {
   "cell_type": "markdown",
   "metadata": {
    "editable": true
   },
   "source": [
    "The number of unique 'cicid' values is the same as the length of the data, which confirms that it can be used as a unique primary id key"
   ]
  },
  {
   "cell_type": "code",
   "execution_count": 148,
   "metadata": {
    "editable": true
   },
   "outputs": [
    {
     "data": {
      "text/html": [
       "<div>\n",
       "<style scoped>\n",
       "    .dataframe tbody tr th:only-of-type {\n",
       "        vertical-align: middle;\n",
       "    }\n",
       "\n",
       "    .dataframe tbody tr th {\n",
       "        vertical-align: top;\n",
       "    }\n",
       "\n",
       "    .dataframe thead th {\n",
       "        text-align: right;\n",
       "    }\n",
       "</style>\n",
       "<table border=\"1\" class=\"dataframe\">\n",
       "  <thead>\n",
       "    <tr style=\"text-align: right;\">\n",
       "      <th></th>\n",
       "      <th>Unnamed: 0</th>\n",
       "      <th>cicid</th>\n",
       "      <th>i94yr</th>\n",
       "      <th>i94mon</th>\n",
       "      <th>i94cit</th>\n",
       "      <th>i94res</th>\n",
       "      <th>i94port</th>\n",
       "      <th>arrdate</th>\n",
       "      <th>i94mode</th>\n",
       "      <th>i94addr</th>\n",
       "      <th>...</th>\n",
       "      <th>entdepu</th>\n",
       "      <th>matflag</th>\n",
       "      <th>biryear</th>\n",
       "      <th>dtaddto</th>\n",
       "      <th>gender</th>\n",
       "      <th>insnum</th>\n",
       "      <th>airline</th>\n",
       "      <th>admnum</th>\n",
       "      <th>fltno</th>\n",
       "      <th>visatype</th>\n",
       "    </tr>\n",
       "  </thead>\n",
       "  <tbody>\n",
       "    <tr>\n",
       "      <th>0</th>\n",
       "      <td>2027561</td>\n",
       "      <td>4084316.0</td>\n",
       "      <td>2016.0</td>\n",
       "      <td>4.0</td>\n",
       "      <td>209.0</td>\n",
       "      <td>209.0</td>\n",
       "      <td>HHW</td>\n",
       "      <td>20566.0</td>\n",
       "      <td>1.0</td>\n",
       "      <td>HI</td>\n",
       "      <td>...</td>\n",
       "      <td>NaN</td>\n",
       "      <td>M</td>\n",
       "      <td>1955.0</td>\n",
       "      <td>07202016</td>\n",
       "      <td>F</td>\n",
       "      <td>NaN</td>\n",
       "      <td>JL</td>\n",
       "      <td>5.658267e+10</td>\n",
       "      <td>00782</td>\n",
       "      <td>WT</td>\n",
       "    </tr>\n",
       "    <tr>\n",
       "      <th>1</th>\n",
       "      <td>2171295</td>\n",
       "      <td>4422636.0</td>\n",
       "      <td>2016.0</td>\n",
       "      <td>4.0</td>\n",
       "      <td>582.0</td>\n",
       "      <td>582.0</td>\n",
       "      <td>MCA</td>\n",
       "      <td>20567.0</td>\n",
       "      <td>1.0</td>\n",
       "      <td>TX</td>\n",
       "      <td>...</td>\n",
       "      <td>NaN</td>\n",
       "      <td>M</td>\n",
       "      <td>1990.0</td>\n",
       "      <td>10222016</td>\n",
       "      <td>M</td>\n",
       "      <td>NaN</td>\n",
       "      <td>*GA</td>\n",
       "      <td>9.436200e+10</td>\n",
       "      <td>XBLNG</td>\n",
       "      <td>B2</td>\n",
       "    </tr>\n",
       "    <tr>\n",
       "      <th>2</th>\n",
       "      <td>589494</td>\n",
       "      <td>1195600.0</td>\n",
       "      <td>2016.0</td>\n",
       "      <td>4.0</td>\n",
       "      <td>148.0</td>\n",
       "      <td>112.0</td>\n",
       "      <td>OGG</td>\n",
       "      <td>20551.0</td>\n",
       "      <td>1.0</td>\n",
       "      <td>FL</td>\n",
       "      <td>...</td>\n",
       "      <td>NaN</td>\n",
       "      <td>M</td>\n",
       "      <td>1940.0</td>\n",
       "      <td>07052016</td>\n",
       "      <td>M</td>\n",
       "      <td>NaN</td>\n",
       "      <td>LH</td>\n",
       "      <td>5.578047e+10</td>\n",
       "      <td>00464</td>\n",
       "      <td>WT</td>\n",
       "    </tr>\n",
       "    <tr>\n",
       "      <th>3</th>\n",
       "      <td>2631158</td>\n",
       "      <td>5291768.0</td>\n",
       "      <td>2016.0</td>\n",
       "      <td>4.0</td>\n",
       "      <td>297.0</td>\n",
       "      <td>297.0</td>\n",
       "      <td>LOS</td>\n",
       "      <td>20572.0</td>\n",
       "      <td>1.0</td>\n",
       "      <td>CA</td>\n",
       "      <td>...</td>\n",
       "      <td>NaN</td>\n",
       "      <td>M</td>\n",
       "      <td>1991.0</td>\n",
       "      <td>10272016</td>\n",
       "      <td>M</td>\n",
       "      <td>NaN</td>\n",
       "      <td>QR</td>\n",
       "      <td>9.478970e+10</td>\n",
       "      <td>00739</td>\n",
       "      <td>B2</td>\n",
       "    </tr>\n",
       "    <tr>\n",
       "      <th>4</th>\n",
       "      <td>3032257</td>\n",
       "      <td>985523.0</td>\n",
       "      <td>2016.0</td>\n",
       "      <td>4.0</td>\n",
       "      <td>111.0</td>\n",
       "      <td>111.0</td>\n",
       "      <td>CHM</td>\n",
       "      <td>20550.0</td>\n",
       "      <td>3.0</td>\n",
       "      <td>NY</td>\n",
       "      <td>...</td>\n",
       "      <td>NaN</td>\n",
       "      <td>M</td>\n",
       "      <td>1997.0</td>\n",
       "      <td>07042016</td>\n",
       "      <td>F</td>\n",
       "      <td>NaN</td>\n",
       "      <td>NaN</td>\n",
       "      <td>4.232257e+10</td>\n",
       "      <td>LAND</td>\n",
       "      <td>WT</td>\n",
       "    </tr>\n",
       "  </tbody>\n",
       "</table>\n",
       "<p>5 rows × 29 columns</p>\n",
       "</div>"
      ],
      "text/plain": [
       "   Unnamed: 0      cicid   i94yr  i94mon  i94cit  i94res i94port  arrdate  \\\n",
       "0     2027561  4084316.0  2016.0     4.0   209.0   209.0     HHW  20566.0   \n",
       "1     2171295  4422636.0  2016.0     4.0   582.0   582.0     MCA  20567.0   \n",
       "2      589494  1195600.0  2016.0     4.0   148.0   112.0     OGG  20551.0   \n",
       "3     2631158  5291768.0  2016.0     4.0   297.0   297.0     LOS  20572.0   \n",
       "4     3032257   985523.0  2016.0     4.0   111.0   111.0     CHM  20550.0   \n",
       "\n",
       "   i94mode i94addr    ...     entdepu  matflag  biryear   dtaddto  gender  \\\n",
       "0      1.0      HI    ...         NaN        M   1955.0  07202016       F   \n",
       "1      1.0      TX    ...         NaN        M   1990.0  10222016       M   \n",
       "2      1.0      FL    ...         NaN        M   1940.0  07052016       M   \n",
       "3      1.0      CA    ...         NaN        M   1991.0  10272016       M   \n",
       "4      3.0      NY    ...         NaN        M   1997.0  07042016       F   \n",
       "\n",
       "  insnum airline        admnum  fltno  visatype  \n",
       "0    NaN      JL  5.658267e+10  00782        WT  \n",
       "1    NaN     *GA  9.436200e+10  XBLNG        B2  \n",
       "2    NaN      LH  5.578047e+10  00464        WT  \n",
       "3    NaN      QR  9.478970e+10  00739        B2  \n",
       "4    NaN     NaN  4.232257e+10   LAND        WT  \n",
       "\n",
       "[5 rows x 29 columns]"
      ]
     },
     "execution_count": 148,
     "metadata": {},
     "output_type": "execute_result"
    }
   ],
   "source": [
    "# Get a sample of the data for easier wrangling of the data\n",
    "inmigration_sample_df = pd.read_csv(\"immigration_data_sample.csv\")\n",
    "inmigration_sample_df.head()"
   ]
  },
  {
   "cell_type": "code",
   "execution_count": 7,
   "metadata": {
    "editable": true
   },
   "outputs": [
    {
     "data": {
      "text/plain": [
       "(1000, 29)"
      ]
     },
     "execution_count": 7,
     "metadata": {},
     "output_type": "execute_result"
    }
   ],
   "source": [
    "inmigration_sample_df.shape"
   ]
  },
  {
   "cell_type": "code",
   "execution_count": 149,
   "metadata": {
    "editable": true
   },
   "outputs": [
    {
     "data": {
      "text/plain": [
       "<matplotlib.axes._subplots.AxesSubplot at 0x7faea3fc2b00>"
      ]
     },
     "execution_count": 149,
     "metadata": {},
     "output_type": "execute_result"
    },
    {
     "data": {
      "image/png": "[encoded data removed]",
      "text/plain": [
       "<matplotlib.figure.Figure at 0x7faea80594a8>"
      ]
     },
     "metadata": {
      "needs_background": "light"
     },
     "output_type": "display_data"
    }
   ],
   "source": [
    "# Plot the data to identify columns with large NaN or null values \n",
    "msno.matrix(inmigration_sample_df) "
   ]
  },
  {
   "cell_type": "markdown",
   "metadata": {
    "editable": true
   },
   "source": [
    "Several columns are null most of the times so they can be dropped in later stages of the pipeline preparation"
   ]
  },
  {
   "cell_type": "code",
   "execution_count": 12,
   "metadata": {
    "editable": true
   },
   "outputs": [],
   "source": [
    "\"\"\"\n",
    "In order to convert the 'i94cit' column to actual countries, one has to extract the data from the .sas file\n",
    "included in the workspace. This is a one-off thing, so it can be hard-coded and the data can be then saved\n",
    "\"\"\"\n",
    "\n",
    "\n",
    "f = open(\"I94_SAS_Labels_Descriptions.SAS\",\"r\")\n",
    "count_line = 0\n",
    "country_codes = {}\n",
    "for line in f:\n",
    "    count_line+=1\n",
    "    if (count_line > 9) & (count_line < 246):\n",
    "        code = line.split(\"=\")[0].strip().replace(\"'\", '')\n",
    "        country = line.split(\"=\")[1].strip(\"\\n\").strip().replace(\"'\", '')\n",
    "        country_codes[code] = country"
   ]
  },
  {
   "cell_type": "code",
   "execution_count": 13,
   "metadata": {
    "editable": true
   },
   "outputs": [
    {
     "data": {
      "text/html": [
       "<div>\n",
       "<style scoped>\n",
       "    .dataframe tbody tr th:only-of-type {\n",
       "        vertical-align: middle;\n",
       "    }\n",
       "\n",
       "    .dataframe tbody tr th {\n",
       "        vertical-align: top;\n",
       "    }\n",
       "\n",
       "    .dataframe thead th {\n",
       "        text-align: right;\n",
       "    }\n",
       "</style>\n",
       "<table border=\"1\" class=\"dataframe\">\n",
       "  <thead>\n",
       "    <tr style=\"text-align: right;\">\n",
       "      <th></th>\n",
       "      <th>Country</th>\n",
       "      <th>Index</th>\n",
       "    </tr>\n",
       "  </thead>\n",
       "  <tbody>\n",
       "    <tr>\n",
       "      <th>582</th>\n",
       "      <td>MEXICO Air Sea, and Not Reported (I-94, no lan...</td>\n",
       "      <td>582</td>\n",
       "    </tr>\n",
       "    <tr>\n",
       "      <th>236</th>\n",
       "      <td>AFGHANISTAN</td>\n",
       "      <td>236</td>\n",
       "    </tr>\n",
       "    <tr>\n",
       "      <th>101</th>\n",
       "      <td>ALBANIA</td>\n",
       "      <td>101</td>\n",
       "    </tr>\n",
       "    <tr>\n",
       "      <th>316</th>\n",
       "      <td>ALGERIA</td>\n",
       "      <td>316</td>\n",
       "    </tr>\n",
       "    <tr>\n",
       "      <th>102</th>\n",
       "      <td>ANDORRA</td>\n",
       "      <td>102</td>\n",
       "    </tr>\n",
       "  </tbody>\n",
       "</table>\n",
       "</div>"
      ],
      "text/plain": [
       "                                               Country Index\n",
       "582  MEXICO Air Sea, and Not Reported (I-94, no lan...   582\n",
       "236                                        AFGHANISTAN   236\n",
       "101                                            ALBANIA   101\n",
       "316                                            ALGERIA   316\n",
       "102                                            ANDORRA   102"
      ]
     },
     "execution_count": 13,
     "metadata": {},
     "output_type": "execute_result"
    }
   ],
   "source": [
    "# Create a dataframe that includes the index and the country name\n",
    "country_codes_df = pd.DataFrame.from_dict(country_codes, orient='index',columns=['Country'])\n",
    "country_codes_df[\"Index\"] = country_codes_df.index\n",
    "\n",
    "# Save dataframe for later use\n",
    "country_codes_df.to_csv(\"country_codes.csv\")\n",
    "\n",
    "#Display first 5 rows\n",
    "country_codes_df.head()"
   ]
  },
  {
   "cell_type": "code",
   "execution_count": 14,
   "metadata": {
    "editable": true
   },
   "outputs": [],
   "source": [
    "# f = open(\"I94_SAS_Labels_Descriptions.SAS\",\"r\")\n",
    "# count_line = 0\n",
    "# port_codes = {}\n",
    "# for line in f:\n",
    "#     count_line+=1\n",
    "#     if (count_line > 302) & (count_line < 894):\n",
    "#         code = line.split(\"=\")[0].strip().replace(\"'\", '')\n",
    "#         port = line.split(\"=\")[1].strip(\"\\n\").strip().replace(\"'\", '')\n",
    "#         port_codes[code] = port"
   ]
  },
  {
   "cell_type": "code",
   "execution_count": 150,
   "metadata": {
    "editable": true
   },
   "outputs": [],
   "source": [
    "# port_codes_df = pd.DataFrame.from_dict(port_codes, orient='index',columns=['Port'])\n",
    "# port_codes_df[\"Port_Code\"] = port_codes_df.index\n",
    "# port_codes_df = port_codes_df.reset_index(drop=True)\n",
    "# port_codes_df.head()"
   ]
  },
  {
   "cell_type": "code",
   "execution_count": 151,
   "metadata": {
    "editable": true
   },
   "outputs": [],
   "source": [
    "# def add_port_name(port):\n",
    "#     try:\n",
    "#         port[\"State_Country\"] = port[\"Port\"].split(\",\")[-1].strip()\n",
    "#     except IndexError:\n",
    "#         port[\"State_Country\"] = port[\"Port\"]\n",
    "#     if \"(BPS)\" in port[\"State_Country\"]:\n",
    "#         port[\"State_Country\"] = port[\"State_Country\"].strip(\"(BPS)\").strip()\n",
    "#     if \"#ARPT\" in port[\"State_Country\"]:\n",
    "#         port[\"State_Country\"] = port[\"State_Country\"].strip(\"#ARPT\").strip()\n",
    "#     port[\"Port_Name\"] = port[\"Port\"].split(\",\")[0].strip()\n",
    "#     return port[[\"State_Country\",\"Port_Name\"]]\n",
    "# port_codes_df[[\"State_Country\",\"Port_Name\"]]= port_codes_df.apply(lambda row: add_port_name(row),axis=1)\n",
    "# # port_codes_df[\"State_Country\"] = port_codes_df.apply(lambda x: x[\"Port\"].split(\",\")[1].strip() ,axis=1)\n",
    "# # port_codes_df[\"Port_Name\"] = port_codes_df.apply(lambda x: x[\"Port\"].split(\",\")[0].strip() ,axis=1)\n",
    "# # #port_codes_df.to_csv(\"port_codes.csv\")\n"
   ]
  },
  {
   "cell_type": "code",
   "execution_count": 152,
   "metadata": {
    "editable": true
   },
   "outputs": [],
   "source": [
    "# port_codes_df.State_Country.unique()"
   ]
  },
  {
   "cell_type": "code",
   "execution_count": 19,
   "metadata": {
    "editable": true
   },
   "outputs": [],
   "source": [
    "#port_codes_df.to_csv(\"port_codes.csv\")"
   ]
  },
  {
   "cell_type": "code",
   "execution_count": 22,
   "metadata": {
    "editable": true
   },
   "outputs": [
    {
     "name": "stdout",
     "output_type": "stream",
     "text": [
      "root\n",
      " |-- cicid: double (nullable = true)\n",
      " |-- i94yr: double (nullable = true)\n",
      " |-- i94mon: double (nullable = true)\n",
      " |-- i94cit: double (nullable = true)\n",
      " |-- i94res: double (nullable = true)\n",
      " |-- i94port: string (nullable = true)\n",
      " |-- arrdate: double (nullable = true)\n",
      " |-- i94mode: double (nullable = true)\n",
      " |-- i94addr: string (nullable = true)\n",
      " |-- depdate: double (nullable = true)\n",
      " |-- i94bir: double (nullable = true)\n",
      " |-- i94visa: double (nullable = true)\n",
      " |-- count: double (nullable = true)\n",
      " |-- dtadfile: string (nullable = true)\n",
      " |-- visapost: string (nullable = true)\n",
      " |-- occup: string (nullable = true)\n",
      " |-- entdepa: string (nullable = true)\n",
      " |-- entdepd: string (nullable = true)\n",
      " |-- entdepu: string (nullable = true)\n",
      " |-- matflag: string (nullable = true)\n",
      " |-- biryear: double (nullable = true)\n",
      " |-- dtaddto: string (nullable = true)\n",
      " |-- gender: string (nullable = true)\n",
      " |-- insnum: string (nullable = true)\n",
      " |-- airline: string (nullable = true)\n",
      " |-- admnum: double (nullable = true)\n",
      " |-- fltno: string (nullable = true)\n",
      " |-- visatype: string (nullable = true)\n",
      "\n"
     ]
    }
   ],
   "source": [
    "# Import the inmigration dataset to spark in order to do queries and process the data in a faster way\n",
    "\n",
    "from pyspark.sql import SparkSession\n",
    "spark = SparkSession.builder.\\\n",
    "config(\"spark.jars.packages\",\"saurfang:spark-sas7bdat:2.0.0-s_2.11\")\\\n",
    ".enableHiveSupport().getOrCreate()\n",
    "df_spark =spark.read.format('com.github.saurfang.sas.spark').load('../../data/18-83510-I94-Data-2016/i94_apr16_sub.sas7bdat')\n",
    "df_spark.printSchema()\n",
    "df_spark.createOrReplaceTempView(\"immig_table\")\n"
   ]
  },
  {
   "cell_type": "markdown",
   "metadata": {
    "editable": true
   },
   "source": [
    "First drop unwanted columns "
   ]
  },
  {
   "cell_type": "code",
   "execution_count": 24,
   "metadata": {
    "editable": true
   },
   "outputs": [],
   "source": [
    "# This cell has been constantly updated during the progress of the analysis\n",
    "df_spark = df_spark.drop(\"visapost\",\"occup\",\"entdepu\",\"insnum\",\"count\",\"dtadfile\",\"dtaddto\",\"admnum\")\n",
    "df_spark = df_spark.na.drop(subset=df_spark.columns)\n",
    "df_spark.createOrReplaceTempView(\"immig_table\")"
   ]
  },
  {
   "cell_type": "code",
   "execution_count": 25,
   "metadata": {
    "editable": true
   },
   "outputs": [
    {
     "name": "stdout",
     "output_type": "stream",
     "text": [
      "root\n",
      " |-- cicid: double (nullable = true)\n",
      " |-- i94yr: double (nullable = true)\n",
      " |-- i94mon: double (nullable = true)\n",
      " |-- i94cit: double (nullable = true)\n",
      " |-- i94res: double (nullable = true)\n",
      " |-- i94port: string (nullable = true)\n",
      " |-- arrdate: double (nullable = true)\n",
      " |-- i94mode: double (nullable = true)\n",
      " |-- i94addr: string (nullable = true)\n",
      " |-- depdate: double (nullable = true)\n",
      " |-- i94bir: double (nullable = true)\n",
      " |-- i94visa: double (nullable = true)\n",
      " |-- entdepa: string (nullable = true)\n",
      " |-- entdepd: string (nullable = true)\n",
      " |-- matflag: string (nullable = true)\n",
      " |-- biryear: double (nullable = true)\n",
      " |-- gender: string (nullable = true)\n",
      " |-- airline: string (nullable = true)\n",
      " |-- fltno: string (nullable = true)\n",
      " |-- visatype: string (nullable = true)\n",
      "\n"
     ]
    }
   ],
   "source": [
    "df_spark.printSchema()"
   ]
  },
  {
   "cell_type": "code",
   "execution_count": 29,
   "metadata": {
    "editable": true
   },
   "outputs": [
    {
     "name": "stdout",
     "output_type": "stream",
     "text": [
      "+---------------------+\n",
      "|count(DISTINCT cicid)|\n",
      "+---------------------+\n",
      "|              2384645|\n",
      "+---------------------+\n",
      "\n"
     ]
    }
   ],
   "source": [
    "# Check that all cicid values are unique\n",
    "spark.sql(\"SELECT COUNT( DISTINCT(cicid)) FROM immig_table\").show()"
   ]
  },
  {
   "cell_type": "code",
   "execution_count": 30,
   "metadata": {
    "editable": true
   },
   "outputs": [
    {
     "name": "stdout",
     "output_type": "stream",
     "text": [
      "+------+\n",
      "|  year|\n",
      "+------+\n",
      "|2016.0|\n",
      "+------+\n",
      "\n"
     ]
    }
   ],
   "source": [
    "# Check different years in the data\n",
    "spark.sql(\"SELECT i94yr as year FROM immig_table GROUP BY year\").show()"
   ]
  },
  {
   "cell_type": "code",
   "execution_count": 31,
   "metadata": {
    "editable": true
   },
   "outputs": [
    {
     "name": "stdout",
     "output_type": "stream",
     "text": [
      "+-----+\n",
      "|month|\n",
      "+-----+\n",
      "|  4.0|\n",
      "+-----+\n",
      "\n"
     ]
    }
   ],
   "source": [
    "# Check different months in the data\n",
    "spark.sql(\"SELECT i94mon as month FROM immig_table GROUP BY month\").show()"
   ]
  },
  {
   "cell_type": "code",
   "execution_count": 32,
   "metadata": {
    "editable": true
   },
   "outputs": [
    {
     "name": "stdout",
     "output_type": "stream",
     "text": [
      "+-------------+-------+\n",
      "|count_country|country|\n",
      "+-------------+-------+\n",
      "|          560|  299.0|\n",
      "|        38884|  692.0|\n",
      "|            2|  769.0|\n",
      "|            2|  147.0|\n",
      "|        12579|  576.0|\n",
      "|          319|  735.0|\n",
      "|          272|  311.0|\n",
      "|         1400|  206.0|\n",
      "|          426|  524.0|\n",
      "|           67|  389.0|\n",
      "|           39|  390.0|\n",
      "|          913|  249.0|\n",
      "|           90|  329.0|\n",
      "|          120|  112.0|\n",
      "|          413|  154.0|\n",
      "|            2|  521.0|\n",
      "|        15372|  124.0|\n",
      "|        73674|  438.0|\n",
      "|          105|  348.0|\n",
      "|            6|  410.0|\n",
      "+-------------+-------+\n",
      "only showing top 20 rows\n",
      "\n"
     ]
    }
   ],
   "source": [
    "# Check different country codes in the data\n",
    "spark.sql(\"SELECT count(i94cit) as count_country, i94cit as country FROM immig_table GROUP BY country\").show()"
   ]
  },
  {
   "cell_type": "code",
   "execution_count": 33,
   "metadata": {
    "editable": true
   },
   "outputs": [
    {
     "data": {
      "text/plain": [
       "Row(_c0='582', Country='MEXICO Air Sea, and Not Reported (I-94, no land arrivals)', Index='582')"
      ]
     },
     "execution_count": 33,
     "metadata": {},
     "output_type": "execute_result"
    }
   ],
   "source": [
    "# Load country codes csv file previously prepared to merge data\n",
    "\n",
    "country_codes_df =spark.read.format(\"csv\").option(\"header\", \"true\").load('country_codes.csv')\n",
    "country_codes_df.createOrReplaceTempView(\"country_codes\")\n",
    "country_codes_df.head()"
   ]
  },
  {
   "cell_type": "code",
   "execution_count": 153,
   "metadata": {
    "editable": true
   },
   "outputs": [],
   "source": [
    "# port_codes_sp =spark.read.format(\"csv\").option(\"header\", \"true\").load('port_codes.csv')\n",
    "# port_codes_sp.createOrReplaceTempView(\"port_codes\")\n",
    "# port_codes_sp.head()"
   ]
  },
  {
   "cell_type": "code",
   "execution_count": 35,
   "metadata": {
    "editable": true
   },
   "outputs": [
    {
     "name": "stdout",
     "output_type": "stream",
     "text": [
      "+-------------+--------------------+\n",
      "|count_country|             country|\n",
      "+-------------+--------------------+\n",
      "|       266791|      UNITED KINGDOM|\n",
      "|       158209|               JAPAN|\n",
      "|       151383|MEXICO Air Sea, a...|\n",
      "|       145006|              FRANCE|\n",
      "|       136399|          CHINA, PRC|\n",
      "|       110260|              BRAZIL|\n",
      "|        78032|               INDIA|\n",
      "|        73674|           AUSTRALIA|\n",
      "|        62789|          ARGENTINA |\n",
      "|        58192|         NETHERLANDS|\n",
      "|        55554|               ITALY|\n",
      "|        46843|               SPAIN|\n",
      "|        45473|            COLOMBIA|\n",
      "|        38884|             ECUADOR|\n",
      "|        36037|              SWEDEN|\n",
      "|        35001|           VENEZUELA|\n",
      "|        30775|              ISRAEL|\n",
      "|        28357|         SWITZERLAND|\n",
      "|        25392|             IRELAND|\n",
      "|        25002|              TAIWAN|\n",
      "+-------------+--------------------+\n",
      "only showing top 20 rows\n",
      "\n"
     ]
    }
   ],
   "source": [
    "# Explore which countries do most inmigrants come from\n",
    "\n",
    "spark.sql(\"SELECT count(i94cit) as count_country, country_codes.Country as country\\\n",
    "          FROM immig_table \\\n",
    "          JOIN country_codes \\\n",
    "          ON immig_table.i94cit = country_codes.Index \\\n",
    "          GROUP BY country\\\n",
    "          ORDER BY count_country DESC\\\n",
    "         \").show()"
   ]
  },
  {
   "cell_type": "code",
   "execution_count": 36,
   "metadata": {
    "editable": true
   },
   "outputs": [
    {
     "name": "stdout",
     "output_type": "stream",
     "text": [
      "+-------------+--------------------+\n",
      "|count_country|             country|\n",
      "+-------------+--------------------+\n",
      "|       270595|      UNITED KINGDOM|\n",
      "|       192852|               JAPAN|\n",
      "|       154441|MEXICO Air Sea, a...|\n",
      "|       142584|              FRANCE|\n",
      "|       131076|          CHINA, PRC|\n",
      "|       113974|              BRAZIL|\n",
      "|       109663|             GERMANY|\n",
      "|       106508|         SOUTH KOREA|\n",
      "|        75473|           AUSTRALIA|\n",
      "|        74462|               INDIA|\n",
      "|        67364|          ARGENTINA |\n",
      "|        56300|         NETHERLANDS|\n",
      "|        45757|               ITALY|\n",
      "|        45555|            COLOMBIA|\n",
      "|        39838|             ECUADOR|\n",
      "|        39580|               SPAIN|\n",
      "|        35877|              SWEDEN|\n",
      "|        34965|           VENEZUELA|\n",
      "|        34126|         SWITZERLAND|\n",
      "|        31712|              ISRAEL|\n",
      "+-------------+--------------------+\n",
      "only showing top 20 rows\n",
      "\n"
     ]
    }
   ],
   "source": [
    "spark.sql(\"SELECT count(i94res) as count_country, country_codes.Country as country\\\n",
    "          FROM immig_table \\\n",
    "          JOIN country_codes \\\n",
    "          ON immig_table.i94res = country_codes.Index \\\n",
    "          GROUP BY country\\\n",
    "          ORDER BY count_country DESC\\\n",
    "         \").show()"
   ]
  },
  {
   "cell_type": "code",
   "execution_count": 154,
   "metadata": {
    "editable": true
   },
   "outputs": [
    {
     "name": "stdout",
     "output_type": "stream",
     "text": [
      "+--------+\n",
      "|count(1)|\n",
      "+--------+\n",
      "|       0|\n",
      "+--------+\n",
      "\n"
     ]
    }
   ],
   "source": [
    "# Confirm that there aren't any null port values\n",
    "\n",
    "spark.sql(\"\"\"\n",
    "SELECT count(*)\n",
    "FROM immig_table\n",
    "WHERE i94port IS NULL\n",
    "\"\"\").show()"
   ]
  },
  {
   "cell_type": "code",
   "execution_count": 38,
   "metadata": {
    "editable": true
   },
   "outputs": [
    {
     "name": "stdout",
     "output_type": "stream",
     "text": [
      "+----------+--------------------+\n",
      "|count_port|                port|\n",
      "+----------+--------------------+\n",
      "|    374329|NEW YORK, NY     ...|\n",
      "|    277359|MIAMI, FL        ...|\n",
      "|    238204|LOS ANGELES, CA  ...|\n",
      "|    131582|SAN FRANCISCO, CA...|\n",
      "|    127040|NEWARK/TETERBORO,...|\n",
      "|    116444|ORLANDO, FL      ...|\n",
      "|    110572|HONOLULU, HI     ...|\n",
      "|     98294|CHICAGO, IL      ...|\n",
      "|     83858|HOUSTON, TX      ...|\n",
      "|     76494|FORT LAUDERDALE, ...|\n",
      "|     76328|LAS VEGAS, NV    ...|\n",
      "|     72898|AGANA, GU        ...|\n",
      "|     60392|ATLANTA, GA      ...|\n",
      "|     59382|WASHINGTON, DC   ...|\n",
      "|     48455|DALLAS, TX       ...|\n",
      "|     40655|BOSTON, MA       ...|\n",
      "|     36321|SEATTLE, WA      ...|\n",
      "|     30853|PHOENIX, AZ      ...|\n",
      "|     24106|DETROIT, MI      ...|\n",
      "|     22357|PHILADELPHIA, PA ...|\n",
      "+----------+--------------------+\n",
      "only showing top 20 rows\n",
      "\n"
     ]
    }
   ],
   "source": [
    "# Find which are the ports that receive the most inmigrants\n",
    "\n",
    "spark.sql(\"SELECT count(i94port) as count_port, port_codes.Port as port\\\n",
    "          FROM immig_table \\\n",
    "          JOIN port_codes \\\n",
    "          ON immig_table.i94port = port_codes.Port_Code \\\n",
    "          GROUP BY port\\\n",
    "          ORDER BY count_port DESC\\\n",
    "         \").show()"
   ]
  },
  {
   "cell_type": "code",
   "execution_count": 39,
   "metadata": {
    "editable": true
   },
   "outputs": [
    {
     "name": "stdout",
     "output_type": "stream",
     "text": [
      "+----------+---------+\n",
      "|count_port|    state|\n",
      "+----------+---------+\n",
      "|    522958|       FL|\n",
      "|    402990|       CA|\n",
      "|    374618|       NY|\n",
      "|    141057|       TX|\n",
      "|    127060|       NJ|\n",
      "|    125126|       HI|\n",
      "|     98297|       IL|\n",
      "|     76541|       NV|\n",
      "|     72898|       GU|\n",
      "|     60392|       GA|\n",
      "|     59382|       DC|\n",
      "|     40700|       MA|\n",
      "|     36333|       WA|\n",
      "|     33720|   CANADA|\n",
      "|     31034|       AZ|\n",
      "|     24121|       MI|\n",
      "|     22863|       PA|\n",
      "|     22726|  IRELAND|\n",
      "|     16277|       NC|\n",
      "|     14871|Abu Dhabi|\n",
      "+----------+---------+\n",
      "only showing top 20 rows\n",
      "\n"
     ]
    }
   ],
   "source": [
    "# Find which are the states that receive the most inmigrants\n",
    "\n",
    "spark.sql(\"SELECT count(i94port) as count_port, port_codes.State_Country as state\\\n",
    "          FROM immig_table \\\n",
    "          JOIN port_codes \\\n",
    "          ON immig_table.i94port = port_codes.Port_Code \\\n",
    "          GROUP BY state\\\n",
    "          ORDER BY count_port DESC\\\n",
    "         \").show()"
   ]
  },
  {
   "cell_type": "code",
   "execution_count": 155,
   "metadata": {
    "editable": true
   },
   "outputs": [],
   "source": [
    "# spark.sql(\"SELECT distinct(port_codes.State_Country) as state\\\n",
    "#           FROM immig_table \\\n",
    "#           JOIN port_codes \\\n",
    "#           ON immig_table.i94port = port_codes.Port_Code \\\n",
    "#           GROUP BY state\\\n",
    "#          \").show()"
   ]
  },
  {
   "cell_type": "code",
   "execution_count": 156,
   "metadata": {
    "editable": true
   },
   "outputs": [],
   "source": [
    "# spark.sql(\"SELECT count(port_codes.State_Country) as state\\\n",
    "#           FROM immig_table \\\n",
    "#           JOIN port_codes \\\n",
    "#           ON immig_table.i94port = port_codes.Port_Code \\\n",
    "#           WHERE port_codes.State_Country = 'CA'\\\n",
    "#          \").show()"
   ]
  },
  {
   "cell_type": "code",
   "execution_count": 157,
   "metadata": {
    "editable": true
   },
   "outputs": [],
   "source": [
    "# port_codes_df.State_Country.unique()"
   ]
  },
  {
   "cell_type": "code",
   "execution_count": 158,
   "metadata": {
    "editable": true
   },
   "outputs": [],
   "source": [
    "nonUSports = ['NOT REPORTED/UNKNOWN  ', 'UNIDENTIFED AIR / SEAPORT',\n",
    "       'UNKNOWN POE           ', 'CANADA', 'NS', 'NETHERLANDS',\n",
    "       'NETH ANTILLES', 'THAILAND', 'ETHIOPIA', 'PRC', 'BERMUDA',\n",
    "       'EL DORADO', 'MINISTRO PIST', 'MEXICO', 'BA', 'URUGUAY', 'IRELAND',\n",
    "       'GABON', 'BAHAMAS', 'Monterrey', 'MX', 'CAYMAN ISLAND',\n",
    "       'MIGUEL HIDAL', 'SEOUL KOREA', 'JAPAN', 'ROMANIA', 'INDONESIA',\n",
    "       'SOUTH AFRICA', 'COLOMBIA', 'MEXICO CITY', 'ENGLAND', 'KENYA',\n",
    "       'TURK & CAIMAN', 'PANAMA', 'NEW GUINEA', 'ECUADOR', 'ITALY',\n",
    "       'EL SALVADOR', 'SAO PAULO', 'PAPUA',\n",
    "       'MEXICO Land (Banco de Mexico) ', 'No PORT Code (CHN)', 'Abu Dhabi']"
   ]
  },
  {
   "cell_type": "code",
   "execution_count": 159,
   "metadata": {
    "editable": true
   },
   "outputs": [],
   "source": [
    "USports = ['AK', 'AL', 'AR', 'AZ', 'CA', 'CO', 'CT', 'DC', 'DE', 'FL', 'GA',\n",
    "       'GU', 'HI', 'IA', 'ID', 'IL', 'IN', 'KS', 'KY', 'LA', 'MA', 'WA',\n",
    "       'MD', 'ME', 'MT', 'MI', 'MN', 'MO', 'MS', 'NC', 'ND', 'NE', 'NH',\n",
    "       'NJ', 'NM', 'NV', 'NY', 'OH', 'OK', 'OR', 'PA', 'PR', 'RI', 'SC',\n",
    "       'SD', 'SPN', 'TN', 'TX', 'VI', 'UT', 'VA', 'VT', 'VT (I-91)',\n",
    "       'VT (RT. 5)', 'VT (BP - SECTOR HQ)', 'WASHINGTON #INTL', 'WI', 'WV',\n",
    "       'WY']"
   ]
  },
  {
   "cell_type": "code",
   "execution_count": 160,
   "metadata": {
    "editable": true
   },
   "outputs": [],
   "source": [
    "# spark.sql(\"\"\"\n",
    "# SELECT i94port, port_codes.State_Country\\\n",
    "#           FROM immig_table \\\n",
    "#           JOIN port_codes \\\n",
    "#           ON immig_table.i94port = port_codes.Port_Code \\\n",
    "#           WHERE port_codes.State_Country IN ('AK', 'AL', 'AR', 'AZ', 'CA', 'CO', 'CT', 'DC', 'DE', 'FL', 'GA',\n",
    "#        'GU', 'HI', 'IA', 'ID', 'IL', 'IN', 'KS', 'KY', 'LA', 'MA', 'WA',\n",
    "#        'MD', 'ME', 'MT', 'MI', 'MN', 'MO', 'MS', 'NC', 'ND', 'NE', 'NH',\n",
    "#        'NJ', 'NM', 'NV', 'NY', 'OH', 'OK', 'OR', 'PA', 'PR', 'RI', 'SC',\n",
    "#        'SD', 'SPN', 'TN', 'TX', 'VI', 'UT', 'VA', 'VT', 'VT (I-91)',\n",
    "#        'VT (RT. 5)', 'VT (BP - SECTOR HQ)', 'WASHINGTON #INTL', 'WI', 'WV','WY')\n",
    "#        LIMIT 5\n",
    "# \"\"\").show()"
   ]
  },
  {
   "cell_type": "code",
   "execution_count": 51,
   "metadata": {
    "editable": true
   },
   "outputs": [],
   "source": [
    "# Convert arrival date to proper date format\n",
    "\n",
    "spark.sql(\"SELECT *, date_add(to_date('1960-01-01'), arrdate) AS arrival_date\\\n",
    "          FROM immig_table\"\n",
    "         ).createOrReplaceTempView(\"immig_table\")"
   ]
  },
  {
   "cell_type": "code",
   "execution_count": 52,
   "metadata": {
    "editable": true
   },
   "outputs": [
    {
     "name": "stdout",
     "output_type": "stream",
     "text": [
      "+----------+----+\n",
      "|count_mode|mode|\n",
      "+----------+----+\n",
      "|   2377949| 1.0|\n",
      "|      6656| 2.0|\n",
      "|        40| 9.0|\n",
      "+----------+----+\n",
      "\n"
     ]
    }
   ],
   "source": [
    "# Find number of people coming by airport versus by other means\n",
    "spark.sql(\"SELECT count(i94mode) as count_mode, i94mode as mode FROM immig_table GROUP BY mode\").show()"
   ]
  },
  {
   "cell_type": "code",
   "execution_count": 53,
   "metadata": {
    "editable": true
   },
   "outputs": [],
   "source": [
    "# Select only inmigrants coming through airports\n",
    "\n",
    "spark.sql(\"\"\"\n",
    "SELECT *\n",
    "FROM immig_table\n",
    "WHERE i94mode = 1\n",
    "\"\"\").createOrReplaceTempView(\"immig_table\")"
   ]
  },
  {
   "cell_type": "code",
   "execution_count": 54,
   "metadata": {
    "editable": true
   },
   "outputs": [
    {
     "name": "stdout",
     "output_type": "stream",
     "text": [
      "+----------+-------+\n",
      "|count_addr|address|\n",
      "+----------+-------+\n",
      "|    512829|     FL|\n",
      "|    455996|     NY|\n",
      "|    388138|     CA|\n",
      "|    135673|     HI|\n",
      "|    105285|     TX|\n",
      "|    101943|     NV|\n",
      "|     85930|     GU|\n",
      "|     63864|     IL|\n",
      "|     62700|     NJ|\n",
      "|     52323|     MA|\n",
      "|     34497|     WA|\n",
      "|     30751|     GA|\n",
      "|     25565|     VA|\n",
      "|     24982|     PA|\n",
      "|     23485|     DC|\n",
      "|     22784|     MI|\n",
      "|     20724|     MD|\n",
      "|     19349|     NC|\n",
      "|     19082|     NE|\n",
      "|     17613|     LA|\n",
      "+----------+-------+\n",
      "only showing top 20 rows\n",
      "\n"
     ]
    }
   ],
   "source": [
    "# Find which are the states that receive the most inmigrants\n",
    "\n",
    "spark.sql(\"SELECT count(i94addr) as count_addr, i94addr as address\\\n",
    "          FROM immig_table\\\n",
    "          GROUP BY address\\\n",
    "          ORDER BY count_addr\\\n",
    "          DESC\").show()"
   ]
  },
  {
   "cell_type": "code",
   "execution_count": 55,
   "metadata": {
    "editable": true
   },
   "outputs": [
    {
     "name": "stdout",
     "output_type": "stream",
     "text": [
      "+----------+\n",
      "|count_addr|\n",
      "+----------+\n",
      "|         0|\n",
      "+----------+\n",
      "\n"
     ]
    }
   ],
   "source": [
    "# Check if there are null address values\n",
    "spark.sql(\"SELECT count(i94addr) as count_addr\\\n",
    "          FROM immig_table\\\n",
    "          WHERE i94addr IS NULL\").show()"
   ]
  },
  {
   "cell_type": "code",
   "execution_count": 56,
   "metadata": {
    "editable": true
   },
   "outputs": [],
   "source": [
    "# Keep only US addresses\n",
    "\n",
    "spark.sql(\"SELECT *\\\n",
    "          FROM immig_table\\\n",
    "          WHERE i94addr <> '99'\").createOrReplaceTempView(\"immig_table\")"
   ]
  },
  {
   "cell_type": "code",
   "execution_count": 57,
   "metadata": {
    "editable": true
   },
   "outputs": [],
   "source": [
    "# Convert departure date to actual date format\n",
    "\n",
    "spark.sql(\"SELECT *, date_add(to_date('1960-01-01'), depdate) AS departure_date\\\n",
    "          FROM immig_table\"\n",
    "         ).createOrReplaceTempView(\"immig_table\")"
   ]
  },
  {
   "cell_type": "code",
   "execution_count": 162,
   "metadata": {
    "editable": true
   },
   "outputs": [
    {
     "name": "stdout",
     "output_type": "stream",
     "text": [
      "+---------+--------------+\n",
      "|count_dep|departure_date|\n",
      "+---------+--------------+\n",
      "|        7|    2016-04-25|\n",
      "|        1|    2016-04-22|\n",
      "|        2|    2016-03-25|\n",
      "|        2|    2016-04-26|\n",
      "|        1|    2015-05-18|\n",
      "|        1|    2016-03-11|\n",
      "|        3|    2016-04-04|\n",
      "|        2|    2016-04-18|\n",
      "|       17|    2016-04-16|\n",
      "|        4|    2016-04-11|\n",
      "|        1|    2016-03-03|\n",
      "|        3|    2016-04-29|\n",
      "|        2|    2016-04-19|\n",
      "|        7|    2016-04-14|\n",
      "|        1|    2016-01-26|\n",
      "|        1|    2016-03-20|\n",
      "|        9|    2016-04-08|\n",
      "|        1|    2016-04-02|\n",
      "|        2|    2016-04-20|\n",
      "|        8|    2016-04-13|\n",
      "+---------+--------------+\n",
      "only showing top 20 rows\n",
      "\n"
     ]
    }
   ],
   "source": [
    "# Check if there are cases where the departure from the USA was before arriving to the USA, which clearly\n",
    "# is wrong data that has to be removed\n",
    "spark.sql(\"SELECT count(departure_date) as count_dep, departure_date\\\n",
    "          FROM immig_table\\\n",
    "          WHERE departure_date<arrival_date\\\n",
    "          GROUP BY departure_date\").show()"
   ]
  },
  {
   "cell_type": "code",
   "execution_count": 163,
   "metadata": {
    "editable": true
   },
   "outputs": [],
   "source": [
    "# Select only data where the departure was after or the same day as the arrival date\n",
    "spark.sql(\"SELECT *\\\n",
    "          FROM immig_table\\\n",
    "          WHERE departure_date>=arrival_date\").createOrReplaceTempView(\"immig_table\")"
   ]
  },
  {
   "cell_type": "code",
   "execution_count": 164,
   "metadata": {
    "editable": true
   },
   "outputs": [
    {
     "name": "stdout",
     "output_type": "stream",
     "text": [
      "+---------+-----+\n",
      "|count_age|  age|\n",
      "+---------+-----+\n",
      "|        6|100.0|\n",
      "|       14| 99.0|\n",
      "|       20| 98.0|\n",
      "|       34| 97.0|\n",
      "|       33| 96.0|\n",
      "|       65| 95.0|\n",
      "|       78| 94.0|\n",
      "|      137| 93.0|\n",
      "|      175| 92.0|\n",
      "|      239| 91.0|\n",
      "|      346| 90.0|\n",
      "|      488| 89.0|\n",
      "|      673| 88.0|\n",
      "|      908| 87.0|\n",
      "|     1181| 86.0|\n",
      "|     1481| 85.0|\n",
      "|     1807| 84.0|\n",
      "|     2146| 83.0|\n",
      "|     2735| 82.0|\n",
      "|     3325| 81.0|\n",
      "+---------+-----+\n",
      "only showing top 20 rows\n",
      "\n"
     ]
    }
   ],
   "source": [
    "# Find age of people coming to the USA and sort by oldest, to find if there is any anomaly\n",
    "spark.sql(\"SELECT count(i94bir) as count_age, i94bir as age\\\n",
    "          FROM immig_table\\\n",
    "          GROUP BY age\\\n",
    "          ORDER BY age DESC\").show()"
   ]
  },
  {
   "cell_type": "markdown",
   "metadata": {
    "editable": true
   },
   "source": [
    "The oldest person coming in the USA was 100 years old (only 6 people), which could be possible, so the data will be kept. Also, at very old ages, there is just a little number of people travelling, which also makes sense"
   ]
  },
  {
   "cell_type": "code",
   "execution_count": 165,
   "metadata": {
    "editable": true
   },
   "outputs": [
    {
     "name": "stdout",
     "output_type": "stream",
     "text": [
      "+----------+----+\n",
      "|count_visa|visa|\n",
      "+----------+----+\n",
      "|   1973379| 2.0|\n",
      "|    377988| 1.0|\n",
      "|     26391| 3.0|\n",
      "+----------+----+\n",
      "\n"
     ]
    }
   ],
   "source": [
    "# Find number of people coming with different visa types\n",
    "\n",
    "spark.sql(\"SELECT count(i94visa) as count_visa, i94visa as visa\\\n",
    "          FROM immig_table\\\n",
    "          GROUP BY visa\\\n",
    "          ORDER BY count_visa DESC\").show()"
   ]
  },
  {
   "cell_type": "code",
   "execution_count": 167,
   "metadata": {
    "editable": true
   },
   "outputs": [
    {
     "name": "stdout",
     "output_type": "stream",
     "text": [
      "+-----------+-----+\n",
      "|count_admit|admit|\n",
      "+-----------+-----+\n",
      "|      14868|    K|\n",
      "|          1|    F|\n",
      "|      48453|    T|\n",
      "|        340|    B|\n",
      "|       1809|    U|\n",
      "|       1194|    O|\n",
      "|      67687|    A|\n",
      "|         31|    N|\n",
      "|    2231235|    G|\n",
      "|        608|    P|\n",
      "|      11532|    H|\n",
      "+-----------+-----+\n",
      "\n"
     ]
    }
   ],
   "source": [
    "# Find different values of arrival flags and their distributions\n",
    "spark.sql(\"SELECT count(entdepa) as count_admit, entdepa as admit\\\n",
    "          FROM immig_table\\\n",
    "          GROUP BY admit\").show()"
   ]
  },
  {
   "cell_type": "code",
   "execution_count": 168,
   "metadata": {
    "editable": true
   },
   "outputs": [
    {
     "name": "stdout",
     "output_type": "stream",
     "text": [
      "+---------+---+\n",
      "|count_dep|dep|\n",
      "+---------+---+\n",
      "|    34782|  K|\n",
      "|    44325|  Q|\n",
      "|        6|  M|\n",
      "|       22|  L|\n",
      "|       23|  V|\n",
      "|  2080512|  O|\n",
      "|    68287|  D|\n",
      "|     1506|  J|\n",
      "|    65891|  N|\n",
      "|        2|  W|\n",
      "|    29136|  R|\n",
      "|    53266|  I|\n",
      "+---------+---+\n",
      "\n"
     ]
    }
   ],
   "source": [
    "# Find different values of arrival flags and their distributions\n",
    "spark.sql(\"SELECT count(entdepd) as count_dep, entdepd as dep\\\n",
    "          FROM immig_table\\\n",
    "          GROUP BY dep\").show()"
   ]
  },
  {
   "cell_type": "markdown",
   "metadata": {
    "editable": true
   },
   "source": [
    "Arrival and departure flags could be useful for some analysis (police or border control, etc) so it will be kept in the data"
   ]
  },
  {
   "cell_type": "code",
   "execution_count": 169,
   "metadata": {
    "editable": true
   },
   "outputs": [
    {
     "name": "stdout",
     "output_type": "stream",
     "text": [
      "+----------+----+\n",
      "|count_flag|flag|\n",
      "+----------+----+\n",
      "|   2377758|   M|\n",
      "+----------+----+\n",
      "\n"
     ]
    }
   ],
   "source": [
    "# Find different values of flag\n",
    "spark.sql(\"SELECT count(matflag) as count_flag, matflag as flag\\\n",
    "          FROM immig_table\\\n",
    "          GROUP BY flag\").show()"
   ]
  },
  {
   "cell_type": "markdown",
   "metadata": {
    "editable": true
   },
   "source": [
    "This column doesn't add much value, as it's all the same, so it will be removed"
   ]
  },
  {
   "cell_type": "code",
   "execution_count": 170,
   "metadata": {
    "editable": true
   },
   "outputs": [
    {
     "name": "stdout",
     "output_type": "stream",
     "text": [
      "+------------+------+\n",
      "|count_gender|gender|\n",
      "+------------+------+\n",
      "|     1150337|     F|\n",
      "|     1227164|     M|\n",
      "|           8|     U|\n",
      "|         249|     X|\n",
      "+------------+------+\n",
      "\n"
     ]
    }
   ],
   "source": [
    "# Find gender distribution of inmigrants\n",
    "\n",
    "spark.sql(\"SELECT count(gender) as count_gender, gender\\\n",
    "          FROM immig_table\\\n",
    "          GROUP BY gender\").show()"
   ]
  },
  {
   "cell_type": "markdown",
   "metadata": {
    "editable": true
   },
   "source": [
    "A large majority is either male of female, with some unknown or not disclosed. These cases will also be kept"
   ]
  },
  {
   "cell_type": "code",
   "execution_count": 171,
   "metadata": {
    "editable": true
   },
   "outputs": [
    {
     "name": "stdout",
     "output_type": "stream",
     "text": [
      "+-------------+-------+\n",
      "|count_airline|airline|\n",
      "+-------------+-------+\n",
      "|       247953|     AA|\n",
      "|       228734|     UA|\n",
      "|       181837|     DL|\n",
      "|       151869|     BA|\n",
      "|        89765|     LH|\n",
      "|        83276|     VS|\n",
      "|        60720|     AF|\n",
      "|        60356|     KE|\n",
      "|        53080|     JL|\n",
      "|        52798|     AM|\n",
      "|        44340|     CM|\n",
      "|        43466|     B6|\n",
      "|        43261|     AV|\n",
      "|        41196|     JJ|\n",
      "|        39672|     EK|\n",
      "|        37568|     LA|\n",
      "|        33745|     SK|\n",
      "|        31270|     NH|\n",
      "|        30899|     Y4|\n",
      "|        30672|     QF|\n",
      "+-------------+-------+\n",
      "only showing top 20 rows\n",
      "\n"
     ]
    }
   ],
   "source": [
    "# Find most popular airlines \n",
    "\n",
    "spark.sql(\"SELECT count(airline) as count_airline, airline\\\n",
    "          FROM immig_table\\\n",
    "          GROUP BY airline\\\n",
    "          ORDER BY count_airline DESC\").show()"
   ]
  },
  {
   "cell_type": "code",
   "execution_count": 172,
   "metadata": {
    "editable": true
   },
   "outputs": [
    {
     "name": "stdout",
     "output_type": "stream",
     "text": [
      "+-------------+\n",
      "|count_airline|\n",
      "+-------------+\n",
      "|            0|\n",
      "+-------------+\n",
      "\n"
     ]
    }
   ],
   "source": [
    "# Check if any airline value is missing\n",
    "\n",
    "spark.sql(\"SELECT count(airline) as count_airline\\\n",
    "          FROM immig_table\\\n",
    "          WHERE airline IS NULL\").show()"
   ]
  },
  {
   "cell_type": "code",
   "execution_count": 174,
   "metadata": {
    "editable": true
   },
   "outputs": [],
   "source": [
    "# This column has been removed during the pipeline design iterative process \n",
    "# spark.sql(\"SELECT count(distinct(admnum))\\\n",
    "#           FROM immig_table\").show()"
   ]
  },
  {
   "cell_type": "code",
   "execution_count": null,
   "metadata": {
    "editable": true
   },
   "outputs": [],
   "source": [
    "# This column has been removed during the pipeline design iterative process \n",
    "\n",
    "# spark.sql(\"SELECT count(admnum) as count_adm, admnum\\\n",
    "#           FROM immig_table\\\n",
    "#           GROUP BY admnum\\\n",
    "#           ORDER BY count_adm DESC\\\n",
    "#           LIMIT 10\").show()"
   ]
  },
  {
   "cell_type": "code",
   "execution_count": 175,
   "metadata": {
    "editable": true
   },
   "outputs": [
    {
     "name": "stdout",
     "output_type": "stream",
     "text": [
      "+---------+\n",
      "|count_flt|\n",
      "+---------+\n",
      "|        0|\n",
      "+---------+\n",
      "\n"
     ]
    }
   ],
   "source": [
    "# Check if any row has a missing or null flight number\n",
    "spark.sql(\"SELECT count(fltno) as count_flt\\\n",
    "          FROM immig_table\\\n",
    "          WHERE fltno IS NULL\").show()"
   ]
  },
  {
   "cell_type": "code",
   "execution_count": 176,
   "metadata": {
    "editable": true
   },
   "outputs": [
    {
     "name": "stdout",
     "output_type": "stream",
     "text": [
      "+----------+--------+\n",
      "|count_visa|visatype|\n",
      "+----------+--------+\n",
      "|      1598|      F2|\n",
      "|       125|     GMB|\n",
      "|    900064|      B2|\n",
      "|     24104|      F1|\n",
      "|         8|     CPL|\n",
      "|       201|      I1|\n",
      "|    181076|      WB|\n",
      "|       661|      M1|\n",
      "|    176041|      B1|\n",
      "|   1004963|      WT|\n",
      "|        28|      M2|\n",
      "|       886|      CP|\n",
      "|     67456|     GMT|\n",
      "|      2933|      E1|\n",
      "|      2869|       I|\n",
      "|     14743|      E2|\n",
      "|         2|     SBP|\n",
      "+----------+--------+\n",
      "\n"
     ]
    }
   ],
   "source": [
    "# Check different visa types \n",
    "spark.sql(\"SELECT count(visatype) as count_visa, visatype\\\n",
    "          FROM immig_table\\\n",
    "          GROUP BY visatype\").show()"
   ]
  },
  {
   "cell_type": "markdown",
   "metadata": {
    "editable": true
   },
   "source": [
    "A thorough exploration of the inmigration dataset has been done. The necessary data formatting processes have been explored and they will be properly implemented in section 4 of this Notebook, when biilding the actual ETL pipeline"
   ]
  },
  {
   "cell_type": "markdown",
   "metadata": {
    "editable": true
   },
   "source": [
    "## Airport Codes"
   ]
  },
  {
   "cell_type": "markdown",
   "metadata": {
    "editable": true
   },
   "source": [
    "The next dataset to analyse is the airport dataset, which includes the codes and details about every airport in the world"
   ]
  },
  {
   "cell_type": "code",
   "execution_count": 177,
   "metadata": {
    "editable": true
   },
   "outputs": [
    {
     "data": {
      "text/plain": [
       "Row(ident='00A', type='heliport', name='Total Rf Heliport', elevation_ft='11', continent='NA', iso_country='US', iso_region='US-PA', municipality='Bensalem', gps_code='00A', iata_code=None, local_code='00A', coordinates='-74.93360137939453, 40.07080078125')"
      ]
     },
     "execution_count": 177,
     "metadata": {},
     "output_type": "execute_result"
    }
   ],
   "source": [
    "# Load data wiht Spark\n",
    "airports_df =spark.read.format(\"csv\").option(\"header\", \"true\").load('airport-codes_csv.csv')\n",
    "airports_df.createOrReplaceTempView(\"airports\")\n",
    "airports_df.head()"
   ]
  },
  {
   "cell_type": "code",
   "execution_count": 178,
   "metadata": {
    "editable": true
   },
   "outputs": [],
   "source": [
    "# Select only USA airports \n",
    "\n",
    "spark.sql(\"\"\"\n",
    "SELECT * \n",
    "FROM airports\n",
    "WHERE iso_country='US'\n",
    "\"\"\").createOrReplaceTempView(\"airports\")"
   ]
  },
  {
   "cell_type": "code",
   "execution_count": 179,
   "metadata": {
    "editable": true
   },
   "outputs": [],
   "source": [
    "# Create a column to include the USA State of the airport\n",
    "spark.sql(\"\"\"\n",
    "SELECT *,RIGHT(iso_region, 2) AS Airport_State\n",
    "FROM airports\n",
    "\"\"\").createOrReplaceTempView(\"airports\")"
   ]
  },
  {
   "cell_type": "code",
   "execution_count": 180,
   "metadata": {
    "editable": true
   },
   "outputs": [
    {
     "name": "stdout",
     "output_type": "stream",
     "text": [
      "+-----------+-----+\n",
      "|count_state|state|\n",
      "+-----------+-----+\n",
      "|       2277|   TX|\n",
      "|       1088|   CA|\n",
      "|        967|   FL|\n",
      "|        918|   PA|\n",
      "|        902|   IL|\n",
      "|        829|   AK|\n",
      "|        799|   OH|\n",
      "|        697|   IN|\n",
      "|        668|   NY|\n",
      "|        624|   WI|\n",
      "|        592|   LA|\n",
      "|        578|   WA|\n",
      "|        578|   MO|\n",
      "|        569|   MN|\n",
      "|        549|   MI|\n",
      "|        537|   OK|\n",
      "|        522|   GA|\n",
      "|        505|   VA|\n",
      "|        505|   CO|\n",
      "|        492|   OR|\n",
      "+-----------+-----+\n",
      "only showing top 20 rows\n",
      "\n"
     ]
    }
   ],
   "source": [
    "# Check states that have the most airports\n",
    "\n",
    "spark.sql(\"\"\"\n",
    "SELECT count(Airport_State) as count_state, Airport_State as state\n",
    "FROM airports\n",
    "GROUP BY state\n",
    "ORDER BY count_state DESC\n",
    "\"\"\").show()"
   ]
  },
  {
   "cell_type": "code",
   "execution_count": 181,
   "metadata": {
    "editable": true
   },
   "outputs": [
    {
     "name": "stdout",
     "output_type": "stream",
     "text": [
      "+----------+--------------+\n",
      "|count_type|          type|\n",
      "+----------+--------------+\n",
      "|     13720| small_airport|\n",
      "|      6265|      heliport|\n",
      "|      1326|        closed|\n",
      "|       692|medium_airport|\n",
      "|       566| seaplane_base|\n",
      "|       170| large_airport|\n",
      "|        18|   balloonport|\n",
      "+----------+--------------+\n",
      "\n"
     ]
    }
   ],
   "source": [
    "# Find different type of airports and number of them\n",
    "spark.sql(\"\"\"\n",
    "SELECT count(type) as count_type, type\n",
    "FROM airports\n",
    "GROUP BY type\n",
    "ORDER BY count_type DESC\n",
    "\"\"\").show()"
   ]
  },
  {
   "cell_type": "code",
   "execution_count": 182,
   "metadata": {
    "editable": true
   },
   "outputs": [],
   "source": [
    "# We are only interested in airports, so other type of ports will be removed\n",
    "spark.sql(\"\"\"\n",
    "SELECT *\n",
    "FROM airports\n",
    "WHERE type IN ('small_airport','medium_airport','large_airport')\n",
    "\"\"\").createOrReplaceTempView(\"airports\")"
   ]
  },
  {
   "cell_type": "code",
   "execution_count": 183,
   "metadata": {
    "editable": true
   },
   "outputs": [],
   "source": [
    "# Remove airports without an IATA code, as this is a unique identifier of airports\n",
    "spark.sql(\"\"\"\n",
    "SELECT *\n",
    "FROM airports\n",
    "WHERE iata_code IS NOT NULL\n",
    "\"\"\").createOrReplaceTempView(\"airports\")"
   ]
  },
  {
   "cell_type": "code",
   "execution_count": 184,
   "metadata": {
    "editable": true
   },
   "outputs": [
    {
     "name": "stdout",
     "output_type": "stream",
     "text": [
      "+-----+---------+\n",
      "|count|iata_code|\n",
      "+-----+---------+\n",
      "|    1|      BZT|\n",
      "|    1|      BGM|\n",
      "|    1|      CNU|\n",
      "|    1|      CRS|\n",
      "|    1|      KEB|\n",
      "|    1|      FMY|\n",
      "|    1|      LEB|\n",
      "|    1|      OXC|\n",
      "|    1|      RKP|\n",
      "|    1|      SGT|\n",
      "|    1|      TNP|\n",
      "|    1|      AIV|\n",
      "|    1|      AVX|\n",
      "|    1|      DNS|\n",
      "|    1|      FCY|\n",
      "|    1|      IML|\n",
      "|    1|      INL|\n",
      "|    1|      OLF|\n",
      "|    1|      DLG|\n",
      "|    1|      ELI|\n",
      "+-----+---------+\n",
      "only showing top 20 rows\n",
      "\n"
     ]
    }
   ],
   "source": [
    "# Check that all IATA codes are unique\n",
    "spark.sql(\"\"\"\n",
    "SELECT count(iata_code) as count, iata_code\n",
    "FROM airports\n",
    "GROUP BY iata_code\n",
    "ORDER BY count DESC\n",
    "\"\"\").show()"
   ]
  },
  {
   "cell_type": "code",
   "execution_count": 185,
   "metadata": {
    "editable": true
   },
   "outputs": [
    {
     "name": "stdout",
     "output_type": "stream",
     "text": [
      "+--------+\n",
      "|count(1)|\n",
      "+--------+\n",
      "|    1865|\n",
      "+--------+\n",
      "\n"
     ]
    }
   ],
   "source": [
    "# Find total number of airports left\n",
    "spark.sql(\"\"\"\n",
    "SELECT count(*)\n",
    "FROM airports\n",
    "\"\"\").show()"
   ]
  },
  {
   "cell_type": "code",
   "execution_count": 186,
   "metadata": {
    "editable": true
   },
   "outputs": [],
   "source": [
    "# Prepare final airport dataset\n",
    "spark.sql(\"\"\"\n",
    "SELECT ident, type, name, elevation_ft, Airport_State as state, municipality, iata_code\n",
    "FROM airports\n",
    "\"\"\").createOrReplaceTempView(\"airports\")"
   ]
  },
  {
   "cell_type": "markdown",
   "metadata": {
    "editable": true
   },
   "source": [
    "A thorough exploration of the inmigration dataset has been done. The necessary data formatting processes have been explored and they will be properly implemented in section 4 of this Notebook, when biilding the actual ETL pipeline"
   ]
  },
  {
   "cell_type": "markdown",
   "metadata": {
    "editable": true
   },
   "source": [
    "## City Demographics"
   ]
  },
  {
   "cell_type": "markdown",
   "metadata": {
    "editable": true
   },
   "source": [
    "The next dataset to explore is the USA city demographic dataset"
   ]
  },
  {
   "cell_type": "code",
   "execution_count": 188,
   "metadata": {
    "editable": true
   },
   "outputs": [
    {
     "name": "stdout",
     "output_type": "stream",
     "text": [
      "+-------------+-------------+----------+---------------+-----------------+----------------+------------------+------------+----------------------+----------+------------------+-----+\n",
      "|         City|        State|Median Age|Male Population|Female Population|Total Population|Number of Veterans|Foreign-born|Average Household Size|State Code|              Race|Count|\n",
      "+-------------+-------------+----------+---------------+-----------------+----------------+------------------+------------+----------------------+----------+------------------+-----+\n",
      "|Silver Spring|     Maryland|      33.8|          40601|            41862|           82463|              1562|       30908|                   2.6|        MD|Hispanic or Latino|25924|\n",
      "|       Quincy|Massachusetts|      41.0|          44129|            49500|           93629|              4147|       32935|                  2.39|        MA|             White|58723|\n",
      "+-------------+-------------+----------+---------------+-----------------+----------------+------------------+------------+----------------------+----------+------------------+-----+\n",
      "only showing top 2 rows\n",
      "\n"
     ]
    }
   ],
   "source": [
    "# Load data and show the first two rows\n",
    "demo_df =spark.read.format(\"csv\").option(\"header\", \"true\").option(\"delimiter\", \";\").load('us-cities-demographics.csv')\n",
    "demo_df = demo_df.na.drop(subset=demo_df.columns)\n",
    "demo_df.createOrReplaceTempView(\"demographics\")\n",
    "demo_df.show(n=2)\n"
   ]
  },
  {
   "cell_type": "code",
   "execution_count": 189,
   "metadata": {
    "editable": true
   },
   "outputs": [
    {
     "name": "stdout",
     "output_type": "stream",
     "text": [
      "root\n",
      " |-- City: string (nullable = true)\n",
      " |-- Median Age: string (nullable = true)\n",
      " |-- Male Population: string (nullable = true)\n",
      " |-- Female Population: string (nullable = true)\n",
      " |-- Total Population: string (nullable = true)\n",
      " |-- Number of Veterans: string (nullable = true)\n",
      " |-- Foreign-born: string (nullable = true)\n",
      " |-- Average Household Size: string (nullable = true)\n",
      " |-- State Code: string (nullable = true)\n",
      " |-- Race: string (nullable = true)\n",
      "\n"
     ]
    }
   ],
   "source": [
    "# This cell has been updated while iterating through the data wrnagling process.\n",
    "# The \"State\" column is not needed as the \"State Code\" column is the unique state identifier used in \n",
    "# other dimension datasets. The \"Count\" column doesn't help describing the city demographics\n",
    "demo_df = demo_df.drop(\"Count\",\"State\")\n",
    "demo_df.createOrReplaceTempView(\"demographics\")\n",
    "demo_df.printSchema()"
   ]
  },
  {
   "cell_type": "code",
   "execution_count": 190,
   "metadata": {
    "editable": true
   },
   "outputs": [
    {
     "name": "stdout",
     "output_type": "stream",
     "text": [
      "+-----------+-----+\n",
      "|count_state|state|\n",
      "+-----------+-----+\n",
      "|        676|   CA|\n",
      "|        273|   TX|\n",
      "|        219|   FL|\n",
      "|         91|   IL|\n",
      "|         85|   WA|\n",
      "|         80|   AZ|\n",
      "|         80|   CO|\n",
      "|         79|   MI|\n",
      "|         70|   NC|\n",
      "|         70|   VA|\n",
      "|         69|   MA|\n",
      "|         57|   NJ|\n",
      "|         55|   GA|\n",
      "|         54|   MN|\n",
      "|         54|   NY|\n",
      "|         51|   IN|\n",
      "|         50|   MD|\n",
      "|         49|   OH|\n",
      "|         48|   UT|\n",
      "|         45|   NV|\n",
      "+-----------+-----+\n",
      "only showing top 20 rows\n",
      "\n"
     ]
    }
   ],
   "source": [
    "# Find state with most cities in the dataset\n",
    "spark.sql(\"\"\"\n",
    "SELECT count(`State Code`) as count_state, `State Code` as state\n",
    "FROM demographics\n",
    "GROUP BY state\n",
    "ORDER BY count_state DESC\n",
    "\"\"\").show()"
   ]
  },
  {
   "cell_type": "code",
   "execution_count": 192,
   "metadata": {
    "editable": true
   },
   "outputs": [
    {
     "name": "stdout",
     "output_type": "stream",
     "text": [
      "+--------+\n",
      "|count(1)|\n",
      "+--------+\n",
      "|       0|\n",
      "+--------+\n",
      "\n"
     ]
    }
   ],
   "source": [
    "# Check if there is any City or State Code data missing\n",
    "spark.sql(\"\"\"\n",
    "SELECT count(*) \n",
    "FROM demographics\n",
    "WHERE City IS NULL\n",
    "OR `State Code` IS NULL\n",
    "\"\"\").show()"
   ]
  },
  {
   "cell_type": "markdown",
   "metadata": {
    "editable": true
   },
   "source": [
    "A thorough exploration of the inmigration dataset has been done. The necessary data formatting processes have been explored and they will be properly implemented in section 4 of this Notebook, when biilding the actual ETL pipeline"
   ]
  },
  {
   "cell_type": "markdown",
   "metadata": {
    "editable": true
   },
   "source": [
    "## Temperature Data"
   ]
  },
  {
   "cell_type": "markdown",
   "metadata": {
    "editable": true
   },
   "source": [
    "The final dataset to analyse is the temperature dataset"
   ]
  },
  {
   "cell_type": "code",
   "execution_count": 193,
   "metadata": {
    "editable": true
   },
   "outputs": [],
   "source": [
    "# Load dataset\n",
    "fname = '../../data2/GlobalLandTemperaturesByCity.csv'\n",
    "temp_df = spark.read.format(\"csv\").option(\"header\",\"true\").load(fname)\n",
    "temp_df.createOrReplaceTempView(\"temperature\")\n"
   ]
  },
  {
   "cell_type": "code",
   "execution_count": 195,
   "metadata": {
    "editable": true
   },
   "outputs": [],
   "source": [
    "# Select only data from the year 2000 onwards. This is on the basis that the inmigration dataset only\n",
    "# contains data in the proper format from 2000 onwards\n",
    "spark.sql(\"\"\"\n",
    "SELECT *, year(dt) as year, month(dt) as month, day(dt) as day\n",
    "FROM temperature\n",
    "WHERE year(dt) >=2000\n",
    "\"\"\").createOrReplaceTempView(\"temperature\")"
   ]
  },
  {
   "cell_type": "code",
   "execution_count": 196,
   "metadata": {
    "editable": true
   },
   "outputs": [
    {
     "name": "stdout",
     "output_type": "stream",
     "text": [
      "+-------------+--------------+\n",
      "|count_country|       Country|\n",
      "+-------------+--------------+\n",
      "|        64515|         India|\n",
      "|        62700|         China|\n",
      "|        42405| United States|\n",
      "|        36300|        Brazil|\n",
      "|        28875|         Japan|\n",
      "|        25740|        Russia|\n",
      "|        23925|     Indonesia|\n",
      "|        16005|        Mexico|\n",
      "|        15015|       Nigeria|\n",
      "|        13365|       Germany|\n",
      "|        11220|United Kingdom|\n",
      "|        10890|          Iran|\n",
      "|        10725|   Philippines|\n",
      "|         9735|      Pakistan|\n",
      "|         8415|        Turkey|\n",
      "|         8250|  South Africa|\n",
      "|         8250|         Spain|\n",
      "|         6930|         Italy|\n",
      "|         6600|     Venezuela|\n",
      "|         6435|      Colombia|\n",
      "+-------------+--------------+\n",
      "only showing top 20 rows\n",
      "\n"
     ]
    }
   ],
   "source": [
    "# Check which countries show up the most. Identify name given to the USA\n",
    "spark.sql(\"\"\"\n",
    "SELECT count(Country) as count_country, Country\n",
    "FROM temperature\n",
    "GROUP BY Country\n",
    "ORDER BY count_country DESC\n",
    "\"\"\").show()"
   ]
  },
  {
   "cell_type": "code",
   "execution_count": 197,
   "metadata": {
    "editable": true
   },
   "outputs": [],
   "source": [
    "# Select only USA cities\n",
    "\n",
    "spark.sql(\"\"\"\n",
    "SELECT *\n",
    "FROM temperature\n",
    "WHERE Country = 'United States'\n",
    "\"\"\").createOrReplaceTempView(\"temperature\")"
   ]
  },
  {
   "cell_type": "code",
   "execution_count": 198,
   "metadata": {
    "editable": true
   },
   "outputs": [
    {
     "name": "stdout",
     "output_type": "stream",
     "text": [
      "+--------+\n",
      "|count(1)|\n",
      "+--------+\n",
      "|       1|\n",
      "+--------+\n",
      "\n"
     ]
    }
   ],
   "source": [
    "# Check if there are any null values in the temperature data\n",
    "spark.sql(\"\"\"\n",
    "SELECT count(*)\n",
    "FROM temperature\n",
    "WHERE AverageTemperature IS NULL\n",
    "OR AverageTemperatureUncertainty IS NULL\n",
    "\"\"\").show()"
   ]
  },
  {
   "cell_type": "code",
   "execution_count": 199,
   "metadata": {
    "editable": true
   },
   "outputs": [],
   "source": [
    "# Select only non- null values\n",
    "spark.sql(\"\"\"\n",
    "SELECT *\n",
    "FROM temperature\n",
    "WHERE AverageTemperature IS NOT NULL\n",
    "OR AverageTemperatureUncertainty IS NOT NULL\n",
    "\"\"\").createOrReplaceTempView(\"temperature\")"
   ]
  },
  {
   "cell_type": "code",
   "execution_count": 200,
   "metadata": {
    "editable": true
   },
   "outputs": [],
   "source": [
    "# Format data in proper way\n",
    "temp_df_spark = spark.sql(\"\"\"\n",
    "SELECT dt, AverageTemperature,AverageTemperatureUncertainty, lower(City) as City, Latitude, Longitude\n",
    "FROM temperature\n",
    "\"\"\")"
   ]
  },
  {
   "cell_type": "code",
   "execution_count": 201,
   "metadata": {
    "editable": true
   },
   "outputs": [
    {
     "name": "stdout",
     "output_type": "stream",
     "text": [
      "+----------+------------------+-----------------------------+-------+--------+---------+\n",
      "|        dt|AverageTemperature|AverageTemperatureUncertainty|   City|Latitude|Longitude|\n",
      "+----------+------------------+-----------------------------+-------+--------+---------+\n",
      "|2000-01-01| 8.039000000000001|                         0.18|abilene|  32.95N|  100.53W|\n",
      "|2000-02-01|            11.908|                        0.306|abilene|  32.95N|  100.53W|\n",
      "+----------+------------------+-----------------------------+-------+--------+---------+\n",
      "only showing top 2 rows\n",
      "\n"
     ]
    }
   ],
   "source": [
    "# Show first two rows\n",
    "temp_df_spark.show(n=2)"
   ]
  },
  {
   "cell_type": "code",
   "execution_count": null,
   "metadata": {
    "editable": true
   },
   "outputs": [],
   "source": [
    "# #write to parquet\n",
    "# df_spark.write.parquet(\"sas_data\")\n",
    "# df_spark=spark.read.parquet(\"sas_data\")"
   ]
  }
 ],
 "metadata": {
  "kernelspec": {
   "display_name": "Python 3",
   "language": "python",
   "name": "python3"
  },
  "language_info": {
   "codemirror_mode": {
    "name": "ipython",
    "version": 3
   },
   "file_extension": ".py",
   "mimetype": "text/x-python",
   "name": "python",
   "nbconvert_exporter": "python",
   "pygments_lexer": "ipython3",
   "version": "3.6.3"
  }
 },
 "nbformat": 4,
 "nbformat_minor": 4
}
